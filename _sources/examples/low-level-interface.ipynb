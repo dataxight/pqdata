{
 "cells": [
  {
   "cell_type": "markdown",
   "id": "7529e33d-ae24-4c59-ac80-84c58b289f38",
   "metadata": {},
   "source": [
    "# Low-level access to `.pqdata`\n",
    "\n",
    "Akin `h5py` and `zarr` libraries, `pqdata` implements a simple lower-level access interface for the contents of the `.pqdata` directories."
   ]
  },
  {
   "cell_type": "markdown",
   "id": "8d8c7394-bd67-4328-9152-811a6040ea15",
   "metadata": {},
   "source": [
    " "
   ]
  },
  {
   "cell_type": "markdown",
   "id": "74c387cb-d49d-458a-9116-cb85181972d9",
   "metadata": {},
   "source": [
    "Some imports first:"
   ]
  },
  {
   "cell_type": "code",
   "execution_count": 1,
   "id": "669f0473-9555-4c13-a34a-fd72f576e0df",
   "metadata": {},
   "outputs": [],
   "source": [
    "import numpy as np\n",
    "from pathlib import Path\n",
    "from pyarrow import parquet as pa"
   ]
  },
  {
   "cell_type": "code",
   "execution_count": 2,
   "id": "67298dc0-1e5e-4812-8e06-ac059e27c892",
   "metadata": {},
   "outputs": [],
   "source": [
    "import pqdata"
   ]
  },
  {
   "cell_type": "markdown",
   "id": "02d4faee-36d7-4673-8eb2-53c46c6ba2d9",
   "metadata": {},
   "source": [
    " "
   ]
  },
  {
   "cell_type": "markdown",
   "id": "73466c16-97bf-4f78-9e5a-8067c0f30b82",
   "metadata": {},
   "source": [
    "Prepare the data:"
   ]
  },
  {
   "cell_type": "code",
   "execution_count": 3,
   "id": "03a41391-9202-4cf1-8eb2-dd8fa64812ae",
   "metadata": {},
   "outputs": [],
   "source": [
    "data = Path(\"data\")"
   ]
  },
  {
   "cell_type": "code",
   "execution_count": 4,
   "id": "3251f754-c92e-44dd-9a30-195c153cf812",
   "metadata": {},
   "outputs": [
    {
     "name": "stdout",
     "output_type": "stream",
     "text": [
      "■ File minipbcite.h5mu from pbmc5k_citeseq has been found at data/pbmc5k_citeseq/minipbcite.h5mu\n",
      "■ Checksum is validated (md5) for minipbcite.h5mu\n",
      "■ Loading minipbcite.h5mu...\n"
     ]
    }
   ],
   "source": [
    "import mudatasets\n",
    "import mudata\n",
    "mudata.set_options(pull_on_update=False)\n",
    "mdata = mudatasets.load(\"pbmc5k_citeseq\", files=[\"minipbcite.h5mu\"], data_dir=data, backed=False)"
   ]
  },
  {
   "cell_type": "code",
   "execution_count": 5,
   "id": "366a849f-6287-446e-8c97-54e55bf8e1b7",
   "metadata": {},
   "outputs": [],
   "source": [
    "file = data / \"pbmc5k_citeseq/pbmc5k_citeseq_mudata.pqdata\"\n",
    "pqdata.write_mudata(mdata, file)"
   ]
  },
  {
   "cell_type": "markdown",
   "id": "b2785b13-0725-4469-ba8f-9d026aafab89",
   "metadata": {},
   "source": [
    " "
   ]
  },
  {
   "cell_type": "markdown",
   "id": "de1d65bd-cec5-458d-b943-e4c78fd5b4df",
   "metadata": {},
   "source": [
    "## `open()`\n",
    "\n",
    "`open()` is a simple entry point:"
   ]
  },
  {
   "cell_type": "code",
   "execution_count": 6,
   "id": "6b2046bb-f23a-4cf2-b60f-5fe25e78c917",
   "metadata": {},
   "outputs": [
    {
     "data": {
      "text/plain": [
       "ParquetStorage(data/pbmc5k_citeseq/pbmc5k_citeseq_mudata.pqdata)"
      ]
     },
     "execution_count": 6,
     "metadata": {},
     "output_type": "execute_result"
    }
   ],
   "source": [
    "f = pqdata.open(file)\n",
    "f"
   ]
  },
  {
   "cell_type": "markdown",
   "id": "8c09f165-288a-41b7-b87b-a3050c3b163b",
   "metadata": {},
   "source": [
    ">Cf. [`zarr.open`](https://zarr.readthedocs.io/en/stable/api/convenience.html#zarr.convenience.open), [`h5py.File`](https://docs.h5py.org/en/stable/high/file.html#opening-creating-files)"
   ]
  },
  {
   "cell_type": "markdown",
   "id": "093fccab-a873-4c67-9d2e-2554be53bb0c",
   "metadata": {},
   "source": [
    "\"Opening\" the file is fast as it doesn't do much apart from remembering the location it is pointed at:"
   ]
  },
  {
   "cell_type": "code",
   "execution_count": 7,
   "id": "dfe4e9db-381c-4d5e-84a7-d122577807d5",
   "metadata": {},
   "outputs": [
    {
     "data": {
      "text/plain": [
       "PosixPath('data/pbmc5k_citeseq/pbmc5k_citeseq_mudata.pqdata')"
      ]
     },
     "execution_count": 7,
     "metadata": {},
     "output_type": "execute_result"
    }
   ],
   "source": [
    "f.path"
   ]
  },
  {
   "cell_type": "markdown",
   "id": "ee033b38-3867-489a-9b02-4e7df59da28d",
   "metadata": {},
   "source": [
    "It returns an object that can be traversed in a straightforward fashion.\n",
    "\n",
    "E.g. individual tables can be reached:"
   ]
  },
  {
   "cell_type": "code",
   "execution_count": 8,
   "id": "9e35b0a6-dbd6-482f-8f17-881568a5f424",
   "metadata": {},
   "outputs": [
    {
     "data": {
      "text/plain": [
       "ParquetArray(data/pbmc5k_citeseq/pbmc5k_citeseq_mudata.pqdata/mod/rna/X.parquet): shape (411,27), type (NKG7:float, KLRC2:float, GNLY:float, IGHM:float, IRF8:float, CD8B:float, CD79A:float, CD14:float, MS4A7:float, CCL5:float, FCGR3A:float, IL4R:float, IGHD:float, S100A8:float, LYZ:float, CD8A:float, FOXP3:float, IL2RA:float, TCL1A:float, TCF4:float, ITGAM:float, TRAC:float, IL7R:float, CST3:float, ITGB1:float, MS4A1:float, KLF4:float)"
      ]
     },
     "execution_count": 8,
     "metadata": {},
     "output_type": "execute_result"
    }
   ],
   "source": [
    "f[\"mod\"][\"rna\"][\"X\"]"
   ]
  },
  {
   "cell_type": "markdown",
   "id": "a0899a3e-1317-416e-883b-5d76d6aa71d1",
   "metadata": {},
   "source": [
    "as well as collections:"
   ]
  },
  {
   "cell_type": "code",
   "execution_count": 9,
   "id": "d73d8b01-4189-4d74-a970-810717d71127",
   "metadata": {},
   "outputs": [
    {
     "data": {
      "text/plain": [
       "['umap',\n",
       " 'leiden',\n",
       " 'celltype_colors',\n",
       " 'leiden_colors',\n",
       " 'pca',\n",
       " 'neighbors',\n",
       " 'hvg',\n",
       " 'rank_genes_groups']"
      ]
     },
     "execution_count": 9,
     "metadata": {},
     "output_type": "execute_result"
    }
   ],
   "source": [
    "list(f[\"mod\"][\"rna\"][\"uns\"])"
   ]
  },
  {
   "cell_type": "markdown",
   "id": "ba25f419-75c1-490a-925c-27b07c43bb27",
   "metadata": {},
   "source": [
    "Note that simple structures and scalars stored in JSON files are actually read into memory during traversing:"
   ]
  },
  {
   "cell_type": "code",
   "execution_count": 10,
   "id": "30fde672-e753-4f84-a824-86bd659aa667",
   "metadata": {},
   "outputs": [
    {
     "data": {
      "text/plain": [
       "{'use_highly_variable': True, 'zero_center': True}"
      ]
     },
     "execution_count": 10,
     "metadata": {},
     "output_type": "execute_result"
    }
   ],
   "source": [
    "f[\"mod\"][\"rna\"][\"uns\"][\"pca\"][\"params\"]"
   ]
  },
  {
   "cell_type": "markdown",
   "id": "cd5cdae2-cebb-4b5f-a5b2-9239c3a4db2b",
   "metadata": {},
   "source": [
    "  "
   ]
  },
  {
   "cell_type": "markdown",
   "id": "fd58915e-d883-4923-a5e5-c33215518ce1",
   "metadata": {},
   "source": [
    "Lightweight objects store information about the absolute (system path) and relative (to the `.pqdata` file) location of the data:"
   ]
  },
  {
   "cell_type": "code",
   "execution_count": 11,
   "id": "c5b9eb7a-a37d-4dfb-a8dd-b06911b01cb4",
   "metadata": {},
   "outputs": [
    {
     "name": "stdout",
     "output_type": "stream",
     "text": [
      "f['mod']['rna']['X']\n",
      "  root: /rna\n",
      "  name: /rna/X\n",
      "  path: data/pbmc5k_citeseq/pbmc5k_citeseq_mudata.pqdata/mod/rna/X.parquet\n"
     ]
    }
   ],
   "source": [
    "print(\"f['mod']['rna']['X']\")\n",
    "print(f\"  root: {f[\"mod\"][\"rna\"][\"X\"].root}\")\n",
    "print(f\"  name: {f[\"mod\"][\"rna\"][\"X\"].name}\")\n",
    "print(f\"  path: {f[\"mod\"][\"rna\"][\"X\"].path}\")"
   ]
  },
  {
   "cell_type": "code",
   "execution_count": 12,
   "id": "77c53427-0b69-4a46-8360-92fa2d6b7d5a",
   "metadata": {},
   "outputs": [],
   "source": [
    "table = pa.read_table(f[\"mod\"][\"rna\"][\"obsm\"][\"X_umap\"].path)\n",
    "umap_embedding = table.to_pandas().to_numpy()"
   ]
  },
  {
   "cell_type": "markdown",
   "id": "7fc47fdc-2c6d-45fe-bc8f-edcd6d80f5b6",
   "metadata": {},
   "source": [
    " "
   ]
  },
  {
   "cell_type": "markdown",
   "id": "7db88eba-7ca2-401e-b245-9dbf57d85e71",
   "metadata": {},
   "source": [
    "Generally, the original type of the object that was used to make the table is stored in `.schema.metadata`:"
   ]
  },
  {
   "cell_type": "code",
   "execution_count": 13,
   "id": "a07f2213-8608-471a-8d88-32148a8b22a1",
   "metadata": {},
   "outputs": [
    {
     "data": {
      "text/plain": [
       "{b'array': b'{\"shape\": [411, 2], \"class\": {\"module\": \"numpy\", \"name\": \"ndarray\"}}'}"
      ]
     },
     "execution_count": 13,
     "metadata": {},
     "output_type": "execute_result"
    }
   ],
   "source": [
    "table.schema.metadata"
   ]
  },
  {
   "cell_type": "markdown",
   "id": "6adccee7-4e2a-4c02-80b9-bd0708249823",
   "metadata": {},
   "source": [
    " "
   ]
  },
  {
   "cell_type": "markdown",
   "id": "2eba4ca6-f73a-4e7d-86f5-dbb7263c3116",
   "metadata": {},
   "source": [
    "`open()` can also work on modalities embedded inside multimodal containers:"
   ]
  },
  {
   "cell_type": "code",
   "execution_count": 14,
   "id": "b1068bda-a4ff-4b6d-a387-37102435dbf7",
   "metadata": {},
   "outputs": [
    {
     "data": {
      "text/plain": [
       "ParquetStorage(data/pbmc5k_citeseq/pbmc5k_citeseq_mudata.pqdata/mod/rna)"
      ]
     },
     "execution_count": 14,
     "metadata": {},
     "output_type": "execute_result"
    }
   ],
   "source": [
    "rna = pqdata.open(f[\"mod\"][\"rna\"].path)\n",
    "rna"
   ]
  },
  {
   "cell_type": "code",
   "execution_count": 15,
   "id": "99b3ded3-3973-4659-9e81-76f99f27cb1e",
   "metadata": {},
   "outputs": [],
   "source": [
    "table = pa.read_table(rna[\"obsm\"][\"X_umap\"].path)\n",
    "umap_embedding = table.to_pandas().to_numpy()"
   ]
  },
  {
   "cell_type": "markdown",
   "id": "0af22b76-10cb-4239-b63a-b95aa9f8639e",
   "metadata": {},
   "source": [
    "And generally, any part of the hierarchy of the file:"
   ]
  },
  {
   "cell_type": "code",
   "execution_count": 16,
   "id": "57ed139f-d500-4fae-9a83-194d98891fd5",
   "metadata": {},
   "outputs": [
    {
     "data": {
      "text/plain": [
       "ParquetStorage(data/pbmc5k_citeseq/pbmc5k_citeseq_mudata.pqdata/mod/rna/obsm)"
      ]
     },
     "execution_count": 16,
     "metadata": {},
     "output_type": "execute_result"
    }
   ],
   "source": [
    "rna_obsm = pqdata.open(rna[\"obsm\"].path)\n",
    "rna_obsm"
   ]
  },
  {
   "cell_type": "code",
   "execution_count": 17,
   "id": "ffef190e-37de-44f3-9dd6-0d40dcaea85c",
   "metadata": {},
   "outputs": [],
   "source": [
    "table = pa.read_table(rna_obsm[\"X_umap\"].path)\n",
    "umap_embedding = table.to_pandas().to_numpy()"
   ]
  },
  {
   "cell_type": "markdown",
   "id": "6586c5e1-da02-4b16-bfbb-24ab1aa4d1b1",
   "metadata": {},
   "source": [
    " "
   ]
  },
  {
   "cell_type": "markdown",
   "id": "7ec19fcb-a0f1-46f1-8deb-fc688920e842",
   "metadata": {},
   "source": [
    "### `read_elem()`\n",
    "\n",
    "Libraries like `anndata` store custom encoding types with the schema defined by the specification and provide the [`read_elem()`](https://anndata.readthedocs.io/en/latest/generated/anndata.experimental.read_elem.html) interface to access individual objects like arrays, matrices, tables, etc.\n",
    "\n",
    "With `pqdata`, objects like that are stored as tables in Parquet files*, and the original object class is preserved in metadata. This way there's no need to define custom encoding types and schemas as this is handled by Parquet files.\n",
    "\n",
    ">\\* simpler entities like scalars are stored in JSON files)"
   ]
  },
  {
   "cell_type": "code",
   "execution_count": 18,
   "id": "4f6641e2-fcdc-4646-9666-62743b066a2f",
   "metadata": {},
   "outputs": [],
   "source": [
    "from pqdata.core import read_elem"
   ]
  },
  {
   "cell_type": "code",
   "execution_count": 19,
   "id": "3914cec1-bf8c-4021-a034-ed98d2465f2e",
   "metadata": {},
   "outputs": [],
   "source": [
    "rna_umap = read_elem(rna_obsm[\"X_umap\"])\n",
    "assert np.array_equal(umap_embedding, rna_umap)"
   ]
  }
 ],
 "metadata": {
  "kernelspec": {
   "display_name": "Python 3 (ipykernel)",
   "language": "python",
   "name": "python3"
  },
  "language_info": {
   "codemirror_mode": {
    "name": "ipython",
    "version": 3
   },
   "file_extension": ".py",
   "mimetype": "text/x-python",
   "name": "python",
   "nbconvert_exporter": "python",
   "pygments_lexer": "ipython3",
   "version": "3.12.3"
  }
 },
 "nbformat": 4,
 "nbformat_minor": 5
}

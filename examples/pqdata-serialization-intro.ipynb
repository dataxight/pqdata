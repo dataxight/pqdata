{
 "cells": [
  {
   "cell_type": "code",
   "execution_count": 1,
   "id": "f1c3418a-3a90-41b0-baa6-c6ad340dc75f",
   "metadata": {},
   "outputs": [],
   "source": [
    "from pathlib import Path\n",
    "import json\n",
    "import pyarrow.parquet as pq"
   ]
  },
  {
   "cell_type": "code",
   "execution_count": 2,
   "id": "de5f4e1f-341c-4f02-bf51-67be3ed5fdc2",
   "metadata": {},
   "outputs": [
    {
     "data": {
      "text/plain": [
       "<mudata._core.config.set_options at 0x35f684a40>"
      ]
     },
     "execution_count": 2,
     "metadata": {},
     "output_type": "execute_result"
    }
   ],
   "source": [
    "import mudata\n",
    "mudata.set_options(pull_on_update=False)"
   ]
  },
  {
   "cell_type": "markdown",
   "id": "697198ed-b0ea-4ad1-a651-b2d6cc884806",
   "metadata": {},
   "source": [
    " "
   ]
  },
  {
   "cell_type": "markdown",
   "id": "934b8d69-b812-422f-b718-080bb8508348",
   "metadata": {},
   "source": [
    "## Parquet-based serialisation"
   ]
  },
  {
   "cell_type": "markdown",
   "id": "e70decb3-d905-4903-8e06-3e581cd7b0e5",
   "metadata": {},
   "source": [
    "`anndata` library implements multiple ways to serialise the data including the default [HDF5-based H5AD files](https://anndata.readthedocs.io/en/latest/generated/anndata.AnnData.write.html#anndata.AnnData.write) as well as [Zarr files](https://anndata.readthedocs.io/en/latest/generated/anndata.AnnData.write_zarr.html#anndata.AnnData.write_zarr).\n",
    "\n",
    "Same interfaces are available in the `mudata` library — for [H5MU files](https://mudata.readthedocs.io/en/latest/io/output.html#id1) and [Zarr files](https://mudata.readthedocs.io/en/latest/io/output.html#zarr-files).\n",
    "\n",
    "While largely following the same format specification ([AnnData](https://anndata.readthedocs.io/en/latest/fileformat-prose.html), [MuData](https://mudata.readthedocs.io/en/latest/io/spec.html)), different serialisation formats can provide benefits in various applications and scenarios."
   ]
  },
  {
   "cell_type": "markdown",
   "id": "2d181038-bc9d-4914-b653-cc6f5de9fd09",
   "metadata": {},
   "source": [
    "`pqdata` implements a similar serialisation strategy that is quite natural as well as can be benefitial for memory and space efficiency and integration with certain analytical tools. It is based on [`parquet` files](https://parquet.apache.org/), and hence this format is termed here as *pqdata files*."
   ]
  },
  {
   "cell_type": "markdown",
   "id": "4dc0a6f7-1c86-40ea-823b-bd1ad6e8d685",
   "metadata": {},
   "source": [
    "For a sneak peek into the usage and the benefits of Parquest files for analytics, you might check the following references:\n",
    "\n",
    "- [Why parquet files are my preferred API for bulk open data](https://www.robinlinacre.com/parquet_api/) (January 2023)\n",
    "- [Extracting, converting, and querying data in local files using clickhouse-local](https://clickhouse.com/blog/extracting-converting-querying-local-files-with-sql-clickhouse-local) (January 2023)\n",
    "- [Reflecting on Apache Arrow in 2022](https://www.datawill.io/posts/apache-arrow-2022-reflection/) (December 2022)\n",
    "- [Holy Duck! Fast Analysis with DuckDB + Pyarrow](https://tech.gerardbentley.com/python/data/intermediate/2022/04/26/holy-duck.html) (April 2022)\n",
    "- [SQL Query on MinIO](https://www.cloudnatively.com/query-parquet-on-minio/) (February 2022)\n",
    "- [SQL Query on Parquet Files with DataFusion](https://www.cloudnatively.com/query-parquet-files-with-datafusion/) (January 2022)\n",
    "- [DuckDB quacks Arrow: A zero-copy data integration between Apache Arrow and DuckDB](https://arrow.apache.org/blog/2021/12/03/arrow-duckdb/) (December 2021)\n",
    "- [Querying Parquet with Precision using DuckDB](https://duckdb.org/2021/06/25/querying-parquet.html) (June 2021)"
   ]
  },
  {
   "cell_type": "markdown",
   "id": "65462d07-01b0-4395-8891-eda01e472f38",
   "metadata": {},
   "source": [
    " "
   ]
  },
  {
   "cell_type": "markdown",
   "id": "52169182-98db-422a-bf36-cc1c1e63e265",
   "metadata": {},
   "source": [
    "Import writers:"
   ]
  },
  {
   "cell_type": "code",
   "execution_count": 3,
   "id": "079454ed-10dc-47ef-9de2-ef70f95dbed6",
   "metadata": {},
   "outputs": [],
   "source": [
    "from pqdata import write_anndata, write_mudata"
   ]
  },
  {
   "cell_type": "markdown",
   "id": "7284c65b-7b48-41bd-a9a0-b1969cd9a04e",
   "metadata": {},
   "source": [
    "... and readers:"
   ]
  },
  {
   "cell_type": "code",
   "execution_count": 4,
   "id": "b68bc3bf-46fb-4ebe-a609-9bbfe2485ba0",
   "metadata": {},
   "outputs": [],
   "source": [
    "from pqdata import read_anndata, read_mudata"
   ]
  },
  {
   "cell_type": "markdown",
   "id": "67b6edb8-0b0f-4ae4-82f2-9f3e48640b65",
   "metadata": {},
   "source": [
    " "
   ]
  },
  {
   "cell_type": "markdown",
   "id": "c3221fae-4a1f-4b53-a680-200de544078b",
   "metadata": {},
   "source": [
    "First, let's download a multimodal dataset in the H5MU format:"
   ]
  },
  {
   "cell_type": "code",
   "execution_count": 5,
   "id": "af255c4f-e0b6-4425-99ee-bbcb59b82635",
   "metadata": {},
   "outputs": [],
   "source": [
    "data = Path(\"data\")"
   ]
  },
  {
   "cell_type": "code",
   "execution_count": 6,
   "id": "7397ecfb-1017-4ff0-a2f1-36d2d44b1491",
   "metadata": {},
   "outputs": [
    {
     "name": "stdout",
     "output_type": "stream",
     "text": [
      "■ File minipbcite.h5mu from pbmc5k_citeseq has been found at data/pbmc5k_citeseq/minipbcite.h5mu\n",
      "■ Checksum is validated (md5) for minipbcite.h5mu\n",
      "■ Loading minipbcite.h5mu...\n"
     ]
    }
   ],
   "source": [
    "import mudatasets\n",
    "mdata = mudatasets.load(\"pbmc5k_citeseq\", files=[\"minipbcite.h5mu\"], data_dir=data, backed=False)"
   ]
  },
  {
   "cell_type": "markdown",
   "id": "9e7c0dc1-7b8d-4ea4-ad84-a0065ec6c311",
   "metadata": {},
   "source": [
    " "
   ]
  },
  {
   "cell_type": "markdown",
   "id": "8e173683-f9a7-4485-b333-e8bb298a28c8",
   "metadata": {},
   "source": [
    "### Writing"
   ]
  },
  {
   "cell_type": "markdown",
   "id": "9255aec7-698e-4246-b8db-a8a7d7d46e21",
   "metadata": {},
   "source": [
    "Write the MuData object:"
   ]
  },
  {
   "cell_type": "code",
   "execution_count": 7,
   "id": "cae1e89a-f283-4a77-8030-e6ee6eb28cda",
   "metadata": {},
   "outputs": [],
   "source": [
    "file = data / \"pbmc5k_citeseq/pbmc5k_citeseq_mudata.pqdata\"\n",
    "write_mudata(mdata, file)"
   ]
  },
  {
   "cell_type": "markdown",
   "id": "3f0054f4-5099-4f21-874d-2da7dfeacad9",
   "metadata": {},
   "source": [
    "Notice that the data is not overwritten by default by this writer:"
   ]
  },
  {
   "cell_type": "code",
   "execution_count": 8,
   "id": "7ce95cda-84ae-437b-80c4-24f70f3fb6d4",
   "metadata": {},
   "outputs": [
    {
     "name": "stdout",
     "output_type": "stream",
     "text": [
      "[Errno 17] File exists: 'data/pbmc5k_citeseq/pbmc5k_citeseq_mudata.pqdata'\n"
     ]
    }
   ],
   "source": [
    "try:\n",
    "    # need to provide overwrite=True to overwrite\n",
    "    write_mudata(mdata, file)\n",
    "except FileExistsError as e:\n",
    "    print(e)"
   ]
  },
  {
   "cell_type": "markdown",
   "id": "3f8dab93-53aa-47ee-b004-1ce7fc7486ac",
   "metadata": {},
   "source": [
    " "
   ]
  },
  {
   "cell_type": "markdown",
   "id": "aea3a744-0b2b-44a3-a625-460001d19718",
   "metadata": {
    "tags": []
   },
   "source": [
    "#### File size"
   ]
  },
  {
   "cell_type": "markdown",
   "id": "e53bec6f-7db1-48ef-ae54-de610319cbd5",
   "metadata": {},
   "source": [
    "We can also notice smaller file size:"
   ]
  },
  {
   "cell_type": "code",
   "execution_count": 9,
   "id": "0c02b6f2-94d5-493f-9c01-0486a17558d5",
   "metadata": {},
   "outputs": [
    {
     "name": "stdout",
     "output_type": "stream",
     "text": [
      "9.0M\tdata/pbmc5k_citeseq/pbmc5k_citeseq_mudata.pqdata\n"
     ]
    }
   ],
   "source": [
    "! du -sh data/pbmc5k_citeseq/pbmc5k_citeseq_mudata.pqdata"
   ]
  },
  {
   "cell_type": "code",
   "execution_count": 10,
   "id": "81042bc2-9685-4c54-ab1a-76208a9ea8e1",
   "metadata": {},
   "outputs": [
    {
     "name": "stdout",
     "output_type": "stream",
     "text": [
      " 16M\tdata/pbmc5k_citeseq/minipbcite.h5mu\n"
     ]
    }
   ],
   "source": [
    "! du -sh data/pbmc5k_citeseq/minipbcite.h5mu"
   ]
  },
  {
   "cell_type": "markdown",
   "id": "a3fb58c1-0a5b-4044-8e9d-8cfdd4f5870c",
   "metadata": {},
   "source": [
    "On larger datasets, the difference will be more noticeable. Moreoever, [other compression strategies](https://arrow.apache.org/docs/python/parquet.html#compression-encoding-and-file-compatibility) can be used to get even smaller files:"
   ]
  },
  {
   "cell_type": "code",
   "execution_count": 11,
   "id": "fe051dc2-5a25-498f-99dd-a3cd7b34359f",
   "metadata": {},
   "outputs": [],
   "source": [
    "file = data / \"pbmc5k_citeseq/pbmc5k_citeseq_mudata_zstd.pqdata\"\n",
    "write_mudata(mdata, file, compression=\"zstd\")"
   ]
  },
  {
   "cell_type": "markdown",
   "id": "a425c016-8d56-45b9-ab2d-97dc0a4d6c81",
   "metadata": {},
   "source": [
    " "
   ]
  },
  {
   "cell_type": "markdown",
   "id": "e36bca9d-5049-4fc0-b1cf-33ddc4843cde",
   "metadata": {},
   "source": [
    "Sometimes it's easier to share the data as a single file, and archiving and compression will make the volume even smaller:"
   ]
  },
  {
   "cell_type": "code",
   "execution_count": 12,
   "id": "10e1df73-453a-47ab-84b5-595cc4589c06",
   "metadata": {},
   "outputs": [],
   "source": [
    "! tar -czf minipbcite.tar.gz data/pbmc5k_citeseq/pbmc5k_citeseq_mudata.pqdata"
   ]
  },
  {
   "cell_type": "code",
   "execution_count": 13,
   "id": "5621024c-d04b-499d-a1a2-43ef54cbad17",
   "metadata": {},
   "outputs": [
    {
     "name": "stdout",
     "output_type": "stream",
     "text": [
      "7.9M\tminipbcite.tar.gz\n"
     ]
    }
   ],
   "source": [
    "! du -sh minipbcite.tar.gz"
   ]
  },
  {
   "cell_type": "markdown",
   "id": "ea4d4a62-0e62-4cb0-bdf7-f4bb1b63b0fa",
   "metadata": {},
   "source": [
    " "
   ]
  },
  {
   "cell_type": "markdown",
   "id": "313dbcf1-d93a-4fa8-a2b9-8639461abeb1",
   "metadata": {},
   "source": [
    "### *.pqdata* structure"
   ]
  },
  {
   "cell_type": "markdown",
   "id": "5c3804f8-e99b-4c5d-a943-53507546dc36",
   "metadata": {},
   "source": [
    "We can see how the dataset is stored on disc:"
   ]
  },
  {
   "cell_type": "code",
   "execution_count": 14,
   "id": "608c8cc5-ed9e-4717-a2c9-4f13329266f1",
   "metadata": {},
   "outputs": [
    {
     "name": "stdout",
     "output_type": "stream",
     "text": [
      "\u001b[1;36mdata/pbmc5k_citeseq/pbmc5k_citeseq_mudata.pqdata\u001b[0m\n",
      "├── \u001b[1;36mmod\u001b[0m\n",
      "│   ├── \u001b[1;36mprot\u001b[0m\n",
      "│   │   ├── X.parquet\n",
      "│   │   ├── \u001b[1;36mlayers\u001b[0m\n",
      "│   │   │   └── counts.parquet\n",
      "│   │   ├── obs.parquet\n",
      "│   │   ├── \u001b[1;36mobsm\u001b[0m\n",
      "│   │   │   ├── X_pca.parquet\n",
      "│   │   │   └── X_umap.parquet\n",
      "│   │   ├── \u001b[1;36mobsp\u001b[0m\n",
      "│   │   │   ├── connectivities.parquet\n",
      "│   │   │   └── distances.parquet\n",
      "│   │   ├── \u001b[1;36muns\u001b[0m\n",
      "│   │   │   └── \u001b[1;36mpca\u001b[0m\n",
      "│   │   │       ├── variance.parquet\n",
      "│   │   │       └── variance_ratio.parquet\n",
      "│   │   ├── uns.json\n",
      "│   │   ├── var.parquet\n",
      "│   │   └── \u001b[1;36mvarm\u001b[0m\n",
      "│   │       └── PCs.parquet\n",
      "│   └── \u001b[1;36mrna\u001b[0m\n",
      "│       ├── X.parquet\n",
      "│       ├── obs.parquet\n",
      "│       ├── \u001b[1;36mobsm\u001b[0m\n",
      "│       │   ├── X_pca.parquet\n",
      "│       │   └── X_umap.parquet\n",
      "│       ├── \u001b[1;36mobsp\u001b[0m\n",
      "│       │   ├── connectivities.parquet\n",
      "│       │   └── distances.parquet\n",
      "│       ├── \u001b[1;36muns\u001b[0m\n",
      "│       │   ├── celltype_colors.parquet\n",
      "│       │   ├── leiden_colors.parquet\n",
      "│       │   ├── \u001b[1;36mpca\u001b[0m\n",
      "│       │   │   ├── variance.parquet\n",
      "│       │   │   └── variance_ratio.parquet\n",
      "│       │   └── \u001b[1;36mrank_genes_groups\u001b[0m\n",
      "│       │       ├── logfoldchanges.parquet\n",
      "│       │       ├── names.parquet\n",
      "│       │       ├── pvals.parquet\n",
      "│       │       ├── pvals_adj.parquet\n",
      "│       │       └── scores.parquet\n",
      "│       ├── uns.json\n",
      "│       ├── var.parquet\n",
      "│       └── \u001b[1;36mvarm\u001b[0m\n",
      "│           └── PCs.parquet\n",
      "├── obs.parquet\n",
      "├── \u001b[1;36mobsm\u001b[0m\n",
      "│   ├── X_mofa.parquet\n",
      "│   ├── X_mofa_umap.parquet\n",
      "│   ├── X_umap.parquet\n",
      "│   └── X_wnn_umap.parquet\n",
      "├── \u001b[1;36mobsmap\u001b[0m\n",
      "│   ├── prot.parquet\n",
      "│   └── rna.parquet\n",
      "├── \u001b[1;36mobsp\u001b[0m\n",
      "│   ├── connectivities.parquet\n",
      "│   ├── distances.parquet\n",
      "│   ├── wnn_connectivities.parquet\n",
      "│   └── wnn_distances.parquet\n",
      "├── pqdata.json\n",
      "├── var.parquet\n",
      "├── \u001b[1;36mvarm\u001b[0m\n",
      "│   └── LFs.parquet\n",
      "└── \u001b[1;36mvarmap\u001b[0m\n",
      "    ├── prot.parquet\n",
      "    └── rna.parquet\n",
      "\n",
      "21 directories, 46 files\n"
     ]
    }
   ],
   "source": [
    "! tree data/pbmc5k_citeseq/pbmc5k_citeseq_mudata.pqdata"
   ]
  },
  {
   "cell_type": "markdown",
   "id": "8d771803-0edb-4d98-a729-f25bb898e2fe",
   "metadata": {},
   "source": [
    " "
   ]
  },
  {
   "cell_type": "markdown",
   "id": "c2b524b1-283f-4662-a547-5c1583b7fcbf",
   "metadata": {},
   "source": [
    "#### Parquet files\n",
    "\n",
    "High-dimensional objects that were NumPy arrays or pandas DataFrames in memory are now stored in individual Parquet files.\n",
    "\n",
    "Moreover, serialising these objects largely relies on `pyarrow`."
   ]
  },
  {
   "cell_type": "code",
   "execution_count": 15,
   "id": "13382721-67f7-45d4-a34a-ff2e15781ced",
   "metadata": {},
   "outputs": [
    {
     "data": {
      "text/html": [
       "<div>\n",
       "<style scoped>\n",
       "    .dataframe tbody tr th:only-of-type {\n",
       "        vertical-align: middle;\n",
       "    }\n",
       "\n",
       "    .dataframe tbody tr th {\n",
       "        vertical-align: top;\n",
       "    }\n",
       "\n",
       "    .dataframe thead th {\n",
       "        text-align: right;\n",
       "    }\n",
       "</style>\n",
       "<table border=\"1\" class=\"dataframe\">\n",
       "  <thead>\n",
       "    <tr style=\"text-align: right;\">\n",
       "      <th></th>\n",
       "      <th>louvain</th>\n",
       "      <th>leiden</th>\n",
       "      <th>leiden_wnn</th>\n",
       "      <th>celltype</th>\n",
       "    </tr>\n",
       "  </thead>\n",
       "  <tbody>\n",
       "    <tr>\n",
       "      <th>CAGCCAGGTCTCGACG-1</th>\n",
       "      <td>1</td>\n",
       "      <td>1</td>\n",
       "      <td>0</td>\n",
       "      <td>CD4+ naïve T</td>\n",
       "    </tr>\n",
       "    <tr>\n",
       "      <th>TTCTTCCTCTCGGTAA-1</th>\n",
       "      <td>1</td>\n",
       "      <td>1</td>\n",
       "      <td>0</td>\n",
       "      <td>CD4+ naïve T</td>\n",
       "    </tr>\n",
       "    <tr>\n",
       "      <th>CGGGTCAAGAGAGGTA-1</th>\n",
       "      <td>1</td>\n",
       "      <td>1</td>\n",
       "      <td>1</td>\n",
       "      <td>CD4+ naïve T</td>\n",
       "    </tr>\n",
       "    <tr>\n",
       "      <th>TACCCGTCATAATCCG-1</th>\n",
       "      <td>1</td>\n",
       "      <td>1</td>\n",
       "      <td>1</td>\n",
       "      <td>CD4+ naïve T</td>\n",
       "    </tr>\n",
       "    <tr>\n",
       "      <th>TGGGTTAGTGAATTAG-1</th>\n",
       "      <td>2</td>\n",
       "      <td>2</td>\n",
       "      <td>1</td>\n",
       "      <td>CD4+ naïve T</td>\n",
       "    </tr>\n",
       "  </tbody>\n",
       "</table>\n",
       "</div>"
      ],
      "text/plain": [
       "                   louvain leiden leiden_wnn      celltype\n",
       "CAGCCAGGTCTCGACG-1       1      1          0  CD4+ naïve T\n",
       "TTCTTCCTCTCGGTAA-1       1      1          0  CD4+ naïve T\n",
       "CGGGTCAAGAGAGGTA-1       1      1          1  CD4+ naïve T\n",
       "TACCCGTCATAATCCG-1       1      1          1  CD4+ naïve T\n",
       "TGGGTTAGTGAATTAG-1       2      2          1  CD4+ naïve T"
      ]
     },
     "execution_count": 15,
     "metadata": {},
     "output_type": "execute_result"
    }
   ],
   "source": [
    "pq.read_table(file / \"obs.parquet\").to_pandas().head()"
   ]
  },
  {
   "cell_type": "markdown",
   "id": "2f36e27c-91ad-450b-838a-b7fbb2b39949",
   "metadata": {},
   "source": [
    "Embeddings, e.g. UMAP:"
   ]
  },
  {
   "cell_type": "code",
   "execution_count": 16,
   "id": "a76d10a1-84ab-4dd4-9786-0630c7d633cb",
   "metadata": {},
   "outputs": [
    {
     "data": {
      "text/plain": [
       "pyarrow.Table\n",
       "1: float\n",
       "2: float\n",
       "----\n",
       "1: [[9.66083,10.850063,12.345492,12.538155,12.528112,...,-1.9723414,-1.5232953,-1.7778809,-1.7384567,-1.5827981]]\n",
       "2: [[5.779709,6.7745605,5.6794906,6.2592025,4.833545,...,-2.152379,-2.1579309,-2.3050048,-2.199118,-2.308012]]"
      ]
     },
     "execution_count": 16,
     "metadata": {},
     "output_type": "execute_result"
    }
   ],
   "source": [
    "pq.read_table(file / \"obsm/X_umap.parquet\")"
   ]
  },
  {
   "cell_type": "code",
   "execution_count": 17,
   "id": "8541ab06-2981-4871-b0ae-525f265cebca",
   "metadata": {},
   "outputs": [
    {
     "data": {
      "text/plain": [
       "array([[ 9.66083  ,  5.779709 ],\n",
       "       [10.850063 ,  6.7745605],\n",
       "       [12.345492 ,  5.6794906],\n",
       "       [12.538155 ,  6.2592025],\n",
       "       [12.528112 ,  4.833545 ],\n",
       "       [13.152369 ,  5.566309 ],\n",
       "       [ 9.910739 ,  9.146889 ],\n",
       "       [ 8.418465 ,  5.2574263],\n",
       "       [12.064896 ,  5.3718014],\n",
       "       [11.305964 , -7.5169115]], dtype=float32)"
      ]
     },
     "execution_count": 17,
     "metadata": {},
     "output_type": "execute_result"
    }
   ],
   "source": [
    "pq.read_table(file / \"obsm/X_umap.parquet\").to_pandas().to_numpy()[:10]"
   ]
  },
  {
   "cell_type": "markdown",
   "id": "aef494f7-f5e8-4d9f-b720-721bdfd48b58",
   "metadata": {},
   "source": [
    "Dense count matrix with normalised values, which contains protein names (`.mod['prot'].var_names`) as column names:"
   ]
  },
  {
   "cell_type": "code",
   "execution_count": 18,
   "id": "d3fda23b-2331-4da0-97ef-aac65a6c2107",
   "metadata": {},
   "outputs": [
    {
     "data": {
      "text/html": [
       "<div>\n",
       "<style scoped>\n",
       "    .dataframe tbody tr th:only-of-type {\n",
       "        vertical-align: middle;\n",
       "    }\n",
       "\n",
       "    .dataframe tbody tr th {\n",
       "        vertical-align: top;\n",
       "    }\n",
       "\n",
       "    .dataframe thead th {\n",
       "        text-align: right;\n",
       "    }\n",
       "</style>\n",
       "<table border=\"1\" class=\"dataframe\">\n",
       "  <thead>\n",
       "    <tr style=\"text-align: right;\">\n",
       "      <th></th>\n",
       "      <th>CD3_TotalSeqB</th>\n",
       "      <th>CD4_TotalSeqB</th>\n",
       "      <th>CD8a_TotalSeqB</th>\n",
       "      <th>CD11b_TotalSeqB</th>\n",
       "      <th>CD14_TotalSeqB</th>\n",
       "      <th>CD15_TotalSeqB</th>\n",
       "      <th>CD16_TotalSeqB</th>\n",
       "      <th>CD19_TotalSeqB</th>\n",
       "      <th>CD20_TotalSeqB</th>\n",
       "      <th>CD25_TotalSeqB</th>\n",
       "      <th>...</th>\n",
       "      <th>CD86_TotalSeqB</th>\n",
       "      <th>CD127_TotalSeqB</th>\n",
       "      <th>CD137_TotalSeqB</th>\n",
       "      <th>CD197_TotalSeqB</th>\n",
       "      <th>CD274_TotalSeqB</th>\n",
       "      <th>CD278_TotalSeqB</th>\n",
       "      <th>CD335_TotalSeqB</th>\n",
       "      <th>PD-1_TotalSeqB</th>\n",
       "      <th>HLA-DR_TotalSeqB</th>\n",
       "      <th>TIGIT_TotalSeqB</th>\n",
       "    </tr>\n",
       "  </thead>\n",
       "  <tbody>\n",
       "    <tr>\n",
       "      <th>406</th>\n",
       "      <td>-1.075961</td>\n",
       "      <td>1.245624</td>\n",
       "      <td>0.258909</td>\n",
       "      <td>2.032457</td>\n",
       "      <td>0.591571</td>\n",
       "      <td>1.429440</td>\n",
       "      <td>0.137301</td>\n",
       "      <td>2.361204</td>\n",
       "      <td>1.693235</td>\n",
       "      <td>1.284448</td>\n",
       "      <td>...</td>\n",
       "      <td>4.252487</td>\n",
       "      <td>0.327570</td>\n",
       "      <td>1.309700</td>\n",
       "      <td>0.107906</td>\n",
       "      <td>0.710895</td>\n",
       "      <td>0.206146</td>\n",
       "      <td>2.295595</td>\n",
       "      <td>2.710157</td>\n",
       "      <td>13.345463</td>\n",
       "      <td>2.335479</td>\n",
       "    </tr>\n",
       "    <tr>\n",
       "      <th>407</th>\n",
       "      <td>-0.038257</td>\n",
       "      <td>8.728498</td>\n",
       "      <td>2.102803</td>\n",
       "      <td>1.870541</td>\n",
       "      <td>0.782583</td>\n",
       "      <td>2.021527</td>\n",
       "      <td>2.680047</td>\n",
       "      <td>1.295704</td>\n",
       "      <td>1.716122</td>\n",
       "      <td>1.112039</td>\n",
       "      <td>...</td>\n",
       "      <td>1.883393</td>\n",
       "      <td>0.701129</td>\n",
       "      <td>2.403748</td>\n",
       "      <td>2.701393</td>\n",
       "      <td>1.573005</td>\n",
       "      <td>3.247963</td>\n",
       "      <td>2.305770</td>\n",
       "      <td>2.435769</td>\n",
       "      <td>13.624533</td>\n",
       "      <td>2.287940</td>\n",
       "    </tr>\n",
       "    <tr>\n",
       "      <th>408</th>\n",
       "      <td>0.254669</td>\n",
       "      <td>10.289223</td>\n",
       "      <td>1.933862</td>\n",
       "      <td>2.539970</td>\n",
       "      <td>0.168840</td>\n",
       "      <td>2.607727</td>\n",
       "      <td>2.538013</td>\n",
       "      <td>0.113553</td>\n",
       "      <td>3.241333</td>\n",
       "      <td>2.223520</td>\n",
       "      <td>...</td>\n",
       "      <td>6.140669</td>\n",
       "      <td>1.847788</td>\n",
       "      <td>1.193516</td>\n",
       "      <td>0.819007</td>\n",
       "      <td>1.382885</td>\n",
       "      <td>0.913976</td>\n",
       "      <td>2.043625</td>\n",
       "      <td>0.751728</td>\n",
       "      <td>14.481518</td>\n",
       "      <td>2.834265</td>\n",
       "    </tr>\n",
       "    <tr>\n",
       "      <th>409</th>\n",
       "      <td>0.243213</td>\n",
       "      <td>13.866776</td>\n",
       "      <td>0.072664</td>\n",
       "      <td>1.043179</td>\n",
       "      <td>-0.051139</td>\n",
       "      <td>4.473774</td>\n",
       "      <td>1.771171</td>\n",
       "      <td>1.584222</td>\n",
       "      <td>4.893187</td>\n",
       "      <td>4.736353</td>\n",
       "      <td>...</td>\n",
       "      <td>8.189964</td>\n",
       "      <td>2.338869</td>\n",
       "      <td>2.845908</td>\n",
       "      <td>1.140788</td>\n",
       "      <td>-0.275009</td>\n",
       "      <td>2.504928</td>\n",
       "      <td>4.931875</td>\n",
       "      <td>3.187832</td>\n",
       "      <td>19.352989</td>\n",
       "      <td>0.957393</td>\n",
       "    </tr>\n",
       "    <tr>\n",
       "      <th>410</th>\n",
       "      <td>2.687545</td>\n",
       "      <td>14.526915</td>\n",
       "      <td>3.441904</td>\n",
       "      <td>1.239545</td>\n",
       "      <td>2.281008</td>\n",
       "      <td>2.358840</td>\n",
       "      <td>1.231699</td>\n",
       "      <td>1.176513</td>\n",
       "      <td>3.691090</td>\n",
       "      <td>1.004248</td>\n",
       "      <td>...</td>\n",
       "      <td>11.924853</td>\n",
       "      <td>1.308427</td>\n",
       "      <td>0.306832</td>\n",
       "      <td>3.636075</td>\n",
       "      <td>1.498553</td>\n",
       "      <td>3.189132</td>\n",
       "      <td>0.258857</td>\n",
       "      <td>4.084857</td>\n",
       "      <td>18.031036</td>\n",
       "      <td>2.995944</td>\n",
       "    </tr>\n",
       "  </tbody>\n",
       "</table>\n",
       "<p>5 rows × 29 columns</p>\n",
       "</div>"
      ],
      "text/plain": [
       "     CD3_TotalSeqB  CD4_TotalSeqB  CD8a_TotalSeqB  CD11b_TotalSeqB  \\\n",
       "406      -1.075961       1.245624        0.258909         2.032457   \n",
       "407      -0.038257       8.728498        2.102803         1.870541   \n",
       "408       0.254669      10.289223        1.933862         2.539970   \n",
       "409       0.243213      13.866776        0.072664         1.043179   \n",
       "410       2.687545      14.526915        3.441904         1.239545   \n",
       "\n",
       "     CD14_TotalSeqB  CD15_TotalSeqB  CD16_TotalSeqB  CD19_TotalSeqB  \\\n",
       "406        0.591571        1.429440        0.137301        2.361204   \n",
       "407        0.782583        2.021527        2.680047        1.295704   \n",
       "408        0.168840        2.607727        2.538013        0.113553   \n",
       "409       -0.051139        4.473774        1.771171        1.584222   \n",
       "410        2.281008        2.358840        1.231699        1.176513   \n",
       "\n",
       "     CD20_TotalSeqB  CD25_TotalSeqB  ...  CD86_TotalSeqB  CD127_TotalSeqB  \\\n",
       "406        1.693235        1.284448  ...        4.252487         0.327570   \n",
       "407        1.716122        1.112039  ...        1.883393         0.701129   \n",
       "408        3.241333        2.223520  ...        6.140669         1.847788   \n",
       "409        4.893187        4.736353  ...        8.189964         2.338869   \n",
       "410        3.691090        1.004248  ...       11.924853         1.308427   \n",
       "\n",
       "     CD137_TotalSeqB  CD197_TotalSeqB  CD274_TotalSeqB  CD278_TotalSeqB  \\\n",
       "406         1.309700         0.107906         0.710895         0.206146   \n",
       "407         2.403748         2.701393         1.573005         3.247963   \n",
       "408         1.193516         0.819007         1.382885         0.913976   \n",
       "409         2.845908         1.140788        -0.275009         2.504928   \n",
       "410         0.306832         3.636075         1.498553         3.189132   \n",
       "\n",
       "     CD335_TotalSeqB  PD-1_TotalSeqB  HLA-DR_TotalSeqB  TIGIT_TotalSeqB  \n",
       "406         2.295595        2.710157         13.345463         2.335479  \n",
       "407         2.305770        2.435769         13.624533         2.287940  \n",
       "408         2.043625        0.751728         14.481518         2.834265  \n",
       "409         4.931875        3.187832         19.352989         0.957393  \n",
       "410         0.258857        4.084857         18.031036         2.995944  \n",
       "\n",
       "[5 rows x 29 columns]"
      ]
     },
     "execution_count": 18,
     "metadata": {},
     "output_type": "execute_result"
    }
   ],
   "source": [
    "pq.read_table(file / \"mod/prot/X.parquet\").to_pandas().tail()"
   ]
  },
  {
   "cell_type": "markdown",
   "id": "434f126c-2f10-4951-a05c-9c8e706998f6",
   "metadata": {},
   "source": [
    "Sparse count matrix with counts are stored in the [COO format](https://docs.scipy.org/doc/scipy/reference/generated/scipy.sparse.coo_matrix.html):"
   ]
  },
  {
   "cell_type": "code",
   "execution_count": 19,
   "id": "78ccc50d-a6fd-4d80-b404-6a283e09a33c",
   "metadata": {},
   "outputs": [
    {
     "data": {
      "text/html": [
       "<div>\n",
       "<style scoped>\n",
       "    .dataframe tbody tr th:only-of-type {\n",
       "        vertical-align: middle;\n",
       "    }\n",
       "\n",
       "    .dataframe tbody tr th {\n",
       "        vertical-align: top;\n",
       "    }\n",
       "\n",
       "    .dataframe thead th {\n",
       "        text-align: right;\n",
       "    }\n",
       "</style>\n",
       "<table border=\"1\" class=\"dataframe\">\n",
       "  <thead>\n",
       "    <tr style=\"text-align: right;\">\n",
       "      <th></th>\n",
       "      <th>row</th>\n",
       "      <th>col</th>\n",
       "      <th>data</th>\n",
       "    </tr>\n",
       "  </thead>\n",
       "  <tbody>\n",
       "    <tr>\n",
       "      <th>11098</th>\n",
       "      <td>410</td>\n",
       "      <td>23</td>\n",
       "      <td>2.0</td>\n",
       "    </tr>\n",
       "    <tr>\n",
       "      <th>11099</th>\n",
       "      <td>410</td>\n",
       "      <td>24</td>\n",
       "      <td>6.0</td>\n",
       "    </tr>\n",
       "    <tr>\n",
       "      <th>11100</th>\n",
       "      <td>410</td>\n",
       "      <td>26</td>\n",
       "      <td>6.0</td>\n",
       "    </tr>\n",
       "    <tr>\n",
       "      <th>11101</th>\n",
       "      <td>410</td>\n",
       "      <td>27</td>\n",
       "      <td>888.0</td>\n",
       "    </tr>\n",
       "    <tr>\n",
       "      <th>11102</th>\n",
       "      <td>410</td>\n",
       "      <td>28</td>\n",
       "      <td>3.0</td>\n",
       "    </tr>\n",
       "  </tbody>\n",
       "</table>\n",
       "</div>"
      ],
      "text/plain": [
       "       row  col   data\n",
       "11098  410   23    2.0\n",
       "11099  410   24    6.0\n",
       "11100  410   26    6.0\n",
       "11101  410   27  888.0\n",
       "11102  410   28    3.0"
      ]
     },
     "execution_count": 19,
     "metadata": {},
     "output_type": "execute_result"
    }
   ],
   "source": [
    "pq.read_table(file / \"mod/prot/layers/counts.parquet\").to_pandas().tail()"
   ]
  },
  {
   "cell_type": "markdown",
   "id": "5f109bf5-723a-4838-a500-abed52e33d9e",
   "metadata": {},
   "source": [
    "For example, we can count proteins with a simple SQL query:"
   ]
  },
  {
   "cell_type": "code",
   "execution_count": 20,
   "id": "4a266e30-249b-4d05-bb63-46323cf38acb",
   "metadata": {},
   "outputs": [
    {
     "data": {
      "text/plain": [
       "[(29,)]"
      ]
     },
     "execution_count": 20,
     "metadata": {},
     "output_type": "execute_result"
    }
   ],
   "source": [
    "import duckdb\n",
    "duckdb.query(f'''\n",
    "    SELECT COUNT(*)\n",
    "    FROM '{file}/mod/prot/var.parquet'\n",
    "''').fetchall()"
   ]
  },
  {
   "cell_type": "markdown",
   "id": "cbfadd39-fd58-4738-8910-f4428ca41bac",
   "metadata": {},
   "source": [
    "> If you want to read more about the Python API of DuckDB, you can [find an intro here](https://duckdb.org/docs/api/python/overview.html)."
   ]
  },
  {
   "cell_type": "markdown",
   "id": "96086dcb-4f62-4b3c-8c87-cd00095d0b1a",
   "metadata": {},
   "source": [
    " "
   ]
  },
  {
   "cell_type": "markdown",
   "id": "1ab0bcd1-d6d1-483f-97c3-e962e889987e",
   "metadata": {},
   "source": [
    "#### JSON files\n",
    "\n",
    "Simpler objects such as scalar values are serialised into [JSON files](https://www.json.org/json-en.html)."
   ]
  },
  {
   "cell_type": "code",
   "execution_count": 21,
   "id": "d0e88901-931f-4b41-a773-722b85b11409",
   "metadata": {},
   "outputs": [
    {
     "name": "stdout",
     "output_type": "stream",
     "text": [
      "{\n",
      "    \"hvg\": {\n",
      "        \"flavor\": \"seurat\"\n",
      "    },\n",
      "    \"leiden\": {\n",
      "        \"params\": {\n",
      "            \"n_iterations\": -1,\n",
      "            \"random_state\": 0,\n",
      "            \"resolution\": 0.75\n",
      "        }\n",
      "    },\n",
      "    \"neighbors\": {\n",
      "        \"connectivities_key\": \"connectivities\",\n",
      "        \"distances_key\": \"distances\",\n",
      "        \"params\": {\n",
      "            \"method\": \"umap\",\n",
      "            \"metric\": \"euclidean\",\n",
      "            \"n_neighbors\": 15,\n",
      "            \"random_state\": 0\n",
      "        }\n",
      "    },\n",
      "    \"pca\": {\n",
      "        \"params\": {\n",
      "            \"use_highly_variable\": true,\n",
      "            \"zero_center\": true\n",
      "        }\n",
      "    },\n",
      "    \"rank_genes_groups\": {\n",
      "        \"params\": {\n",
      "            \"corr_method\": \"benjamini-hochberg\",\n",
      "            \"groupby\": \"leiden\",\n",
      "            \"method\": \"t-test_overestim_var\",\n",
      "            \"reference\": \"rest\",\n",
      "            \"use_raw\": true\n",
      "        }\n",
      "    },\n",
      "    \"umap\": {\n",
      "        \"params\": {\n",
      "            \"a\": 0.5830300205483709,\n",
      "            \"b\": 1.334166992455648,\n",
      "            \"random_state\": 11\n",
      "        }\n",
      "    }\n",
      "}\n"
     ]
    }
   ],
   "source": [
    "with open(file / \"mod/rna/uns.json\") as uns_file:\n",
    "    uns = json.load(uns_file)\n",
    "    \n",
    "    print(json.dumps(uns, indent=4))"
   ]
  },
  {
   "cell_type": "markdown",
   "id": "479ce7ec-3104-4170-b929-99fffa5e4059",
   "metadata": {},
   "source": [
    " "
   ]
  },
  {
   "cell_type": "markdown",
   "id": "f71b21a1-717c-4368-bb5c-0624564abe1b",
   "metadata": {
    "tags": []
   },
   "source": [
    "### Reading\n",
    "\n",
    "AnnData reader will return an in-memory AnnData object, and MuData reader will return an in-memory MuData object:"
   ]
  },
  {
   "cell_type": "code",
   "execution_count": 22,
   "id": "00142afa-04ae-4d22-a936-8a2fa11145d1",
   "metadata": {},
   "outputs": [
    {
     "data": {
      "text/html": [
       "<pre>MuData object with n_obs × n_vars = 411 × 56\n",
       "  obs:\t&#x27;louvain&#x27;, &#x27;leiden&#x27;, &#x27;leiden_wnn&#x27;, &#x27;celltype&#x27;\n",
       "  var:\t&#x27;feature_types&#x27;, &#x27;gene_ids&#x27;, &#x27;highly_variable&#x27;\n",
       "  obsm:\t&#x27;X_wnn_umap&#x27;, &#x27;X_umap&#x27;, &#x27;X_mofa_umap&#x27;, &#x27;X_mofa&#x27;\n",
       "  varm:\t&#x27;LFs&#x27;\n",
       "  obsp:\t&#x27;connectivities&#x27;, &#x27;distances&#x27;, &#x27;wnn_connectivities&#x27;, &#x27;wnn_distances&#x27;\n",
       "  2 modalities\n",
       "    prot:\t411 x 29\n",
       "      var:\t&#x27;gene_ids&#x27;, &#x27;feature_types&#x27;, &#x27;highly_variable&#x27;\n",
       "      uns:\t&#x27;neighbors&#x27;, &#x27;pca&#x27;, &#x27;umap&#x27;\n",
       "      obsm:\t&#x27;X_pca&#x27;, &#x27;X_umap&#x27;\n",
       "      varm:\t&#x27;PCs&#x27;\n",
       "      layers:\t&#x27;counts&#x27;\n",
       "      obsp:\t&#x27;connectivities&#x27;, &#x27;distances&#x27;\n",
       "    rna:\t411 x 27\n",
       "      obs:\t&#x27;n_genes_by_counts&#x27;, &#x27;total_counts&#x27;, &#x27;total_counts_mt&#x27;, &#x27;pct_counts_mt&#x27;, &#x27;leiden&#x27;, &#x27;celltype&#x27;\n",
       "      var:\t&#x27;gene_ids&#x27;, &#x27;feature_types&#x27;, &#x27;mt&#x27;, &#x27;n_cells_by_counts&#x27;, &#x27;mean_counts&#x27;, &#x27;pct_dropout_by_counts&#x27;, &#x27;total_counts&#x27;, &#x27;highly_variable&#x27;, &#x27;means&#x27;, &#x27;dispersions&#x27;, &#x27;dispersions_norm&#x27;, &#x27;mean&#x27;, &#x27;std&#x27;\n",
       "      uns:\t&#x27;hvg&#x27;, &#x27;leiden&#x27;, &#x27;neighbors&#x27;, &#x27;pca&#x27;, &#x27;rank_genes_groups&#x27;, &#x27;umap&#x27;, &#x27;celltype_colors&#x27;, &#x27;leiden_colors&#x27;\n",
       "      obsm:\t&#x27;X_pca&#x27;, &#x27;X_umap&#x27;\n",
       "      varm:\t&#x27;PCs&#x27;\n",
       "      obsp:\t&#x27;connectivities&#x27;, &#x27;distances&#x27;</pre>"
      ],
      "text/plain": [
       "MuData object with n_obs × n_vars = 411 × 56\n",
       "  obs:\t'louvain', 'leiden', 'leiden_wnn', 'celltype'\n",
       "  var:\t'feature_types', 'gene_ids', 'highly_variable'\n",
       "  obsm:\t'X_wnn_umap', 'X_umap', 'X_mofa_umap', 'X_mofa'\n",
       "  varm:\t'LFs'\n",
       "  obsp:\t'connectivities', 'distances', 'wnn_connectivities', 'wnn_distances'\n",
       "  2 modalities\n",
       "    prot:\t411 x 29\n",
       "      var:\t'gene_ids', 'feature_types', 'highly_variable'\n",
       "      uns:\t'neighbors', 'pca', 'umap'\n",
       "      obsm:\t'X_pca', 'X_umap'\n",
       "      varm:\t'PCs'\n",
       "      layers:\t'counts'\n",
       "      obsp:\t'connectivities', 'distances'\n",
       "    rna:\t411 x 27\n",
       "      obs:\t'n_genes_by_counts', 'total_counts', 'total_counts_mt', 'pct_counts_mt', 'leiden', 'celltype'\n",
       "      var:\t'gene_ids', 'feature_types', 'mt', 'n_cells_by_counts', 'mean_counts', 'pct_dropout_by_counts', 'total_counts', 'highly_variable', 'means', 'dispersions', 'dispersions_norm', 'mean', 'std'\n",
       "      uns:\t'hvg', 'leiden', 'neighbors', 'pca', 'rank_genes_groups', 'umap', 'celltype_colors', 'leiden_colors'\n",
       "      obsm:\t'X_pca', 'X_umap'\n",
       "      varm:\t'PCs'\n",
       "      obsp:\t'connectivities', 'distances'"
      ]
     },
     "execution_count": 22,
     "metadata": {},
     "output_type": "execute_result"
    }
   ],
   "source": [
    "read_mudata(file)"
   ]
  },
  {
   "cell_type": "markdown",
   "id": "232cab98-caad-4050-a4b1-4891e62ffb86",
   "metadata": {},
   "source": [
    " "
   ]
  },
  {
   "cell_type": "markdown",
   "id": "6c4cbd65-f0d5-4b0b-b653-7ce36b07dfaa",
   "metadata": {},
   "source": [
    "### File reading speed"
   ]
  },
  {
   "cell_type": "markdown",
   "id": "402d126a-cd88-4ee3-9ec3-18a85c5f2c53",
   "metadata": {},
   "source": [
    "Read speads are not compromised and are actually improved:"
   ]
  },
  {
   "cell_type": "code",
   "execution_count": 23,
   "id": "24af01b4-769a-45d8-8d22-27f3628afd95",
   "metadata": {},
   "outputs": [],
   "source": [
    "import mudata"
   ]
  },
  {
   "cell_type": "code",
   "execution_count": 24,
   "id": "9fef7305-2fcd-4863-b828-ae0cdf2e12a1",
   "metadata": {},
   "outputs": [
    {
     "name": "stdout",
     "output_type": "stream",
     "text": [
      "93.9 ms ± 5.8 ms per loop (mean ± std. dev. of 7 runs, 10 loops each)\n"
     ]
    }
   ],
   "source": [
    "%%timeit\n",
    "mudata.read(\"data/pbmc5k_citeseq/minipbcite.h5mu\")"
   ]
  },
  {
   "cell_type": "code",
   "execution_count": 25,
   "id": "bbc5b206-b924-4220-82e0-fbd1a997e7f0",
   "metadata": {},
   "outputs": [
    {
     "name": "stdout",
     "output_type": "stream",
     "text": [
      "45.2 ms ± 1.12 ms per loop (mean ± std. dev. of 7 runs, 10 loops each)\n"
     ]
    }
   ],
   "source": [
    "%%timeit\n",
    "read_mudata(file)"
   ]
  },
  {
   "cell_type": "markdown",
   "id": "c38af0f6-c0cb-4d21-8028-3331e201a656",
   "metadata": {},
   "source": [
    " "
   ]
  },
  {
   "cell_type": "markdown",
   "id": "bb8ae64d-1ee8-436f-b4a4-8bb51fc3b911",
   "metadata": {},
   "source": [
    "---"
   ]
  },
  {
   "cell_type": "markdown",
   "id": "60e4944f-562e-4694-bc0b-417b71d62935",
   "metadata": {},
   "source": [
    "Together, these methods in `pqdata` make the Parquet-based serialisation compatible with the whole [scverse ecosystem](https://scverse.org/) while also providing benefits for out-of-memory analytics on large datasets."
   ]
  },
  {
   "cell_type": "markdown",
   "id": "cf343d96-e45f-42db-9044-27f33b28632a",
   "metadata": {},
   "source": [
    "  "
   ]
  }
 ],
 "metadata": {
  "kernelspec": {
   "display_name": "Python 3 (ipykernel)",
   "language": "python",
   "name": "python3"
  },
  "language_info": {
   "codemirror_mode": {
    "name": "ipython",
    "version": 3
   },
   "file_extension": ".py",
   "mimetype": "text/x-python",
   "name": "python",
   "nbconvert_exporter": "python",
   "pygments_lexer": "ipython3",
   "version": "3.12.3"
  }
 },
 "nbformat": 4,
 "nbformat_minor": 5
}

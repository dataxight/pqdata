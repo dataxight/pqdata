{
 "cells": [
  {
   "cell_type": "markdown",
   "id": "6717d460-b63d-4f83-971b-a47de3c96eba",
   "metadata": {},
   "source": [
    "# Parquet-based serialisation for AnnData/MuData"
   ]
  },
  {
   "cell_type": "markdown",
   "id": "616fb8f0-0907-441a-8fd4-3035ed875297",
   "metadata": {},
   "source": [
    "Serialise `AnnData` and `MuData` objects into directories with [Parquet files](https://parquet.apache.org/)."
   ]
  },
  {
   "cell_type": "markdown",
   "id": "e96bb842-f571-47b1-b08f-57734db24629",
   "metadata": {},
   "source": [
    " "
   ]
  },
  {
   "cell_type": "markdown",
   "id": "881e3928-2c78-4ff1-be2b-26e7f5441370",
   "metadata": {},
   "source": [
    "Some imports first:"
   ]
  },
  {
   "cell_type": "code",
   "execution_count": 1,
   "id": "b149221b-ca8a-43a5-a9f4-527ba120eced",
   "metadata": {},
   "outputs": [],
   "source": [
    "import os\n",
    "from pathlib import Path\n",
    "import pytest\n",
    "\n",
    "import mudata\n",
    "from mudata import AnnData, MuData\n",
    "\n",
    "from pqdata.io.write import write_anndata, write_mudata\n",
    "from pqdata.io.read import read_anndata, read_mudata"
   ]
  },
  {
   "cell_type": "code",
   "execution_count": 2,
   "id": "4e7a8971-ca25-4e23-87d1-79fe29f5738e",
   "metadata": {},
   "outputs": [
    {
     "data": {
      "text/plain": [
       "<mudata._core.config.set_options at 0x14f174510>"
      ]
     },
     "execution_count": 2,
     "metadata": {},
     "output_type": "execute_result"
    }
   ],
   "source": [
    "mudata.set_options(pull_on_update=False)"
   ]
  },
  {
   "cell_type": "markdown",
   "id": "8071132e-652e-4d00-b3e6-7f983b126e86",
   "metadata": {},
   "source": [
    "Some data to work with:"
   ]
  },
  {
   "cell_type": "code",
   "execution_count": 3,
   "id": "0dfedfd4-c602-4162-a0be-59f197ed9804",
   "metadata": {},
   "outputs": [],
   "source": [
    "!mkdir -p data/pbmc5k_citeseq\n",
    "!wget 'https://github.com/gtca/h5xx-datasets/blob/main/datasets/minipbcite.h5mu?raw=true' -O data/pbmc5k_citeseq/minipbcite.h5mu"
   ]
  },
  {
   "cell_type": "code",
   "execution_count": 4,
   "id": "efa31286-9acf-4596-b0ec-e9c9b100795c",
   "metadata": {},
   "outputs": [],
   "source": [
    "data = Path(\"data/pbmc5k_citeseq/\")\n",
    "mdata = mudata.read(data / \"minipbcite.h5mu\")"
   ]
  },
  {
   "cell_type": "markdown",
   "id": "f69eee98-a733-48fe-b98b-0513d53d0618",
   "metadata": {},
   "source": [
    " "
   ]
  },
  {
   "cell_type": "markdown",
   "id": "32da3cf2-8675-4d57-b01b-15b3a43c49f3",
   "metadata": {},
   "source": [
    "## MuData Parquet-based I/O"
   ]
  },
  {
   "cell_type": "markdown",
   "id": "bd6ca155-ed17-4656-9859-7e014f4241aa",
   "metadata": {},
   "source": [
    "Saving a `MuData` object on disk:"
   ]
  },
  {
   "cell_type": "code",
   "execution_count": 5,
   "id": "3f1f3c85-d1d7-43a3-ae3f-95db837f2bb4",
   "metadata": {},
   "outputs": [],
   "source": [
    "mudata_pq = data / \"minipbcite.pqdata\"\n",
    "write_mudata(mdata, mudata_pq)"
   ]
  },
  {
   "cell_type": "markdown",
   "id": "7e302431-dcd3-443c-808a-337f9509847c",
   "metadata": {},
   "source": [
    "Files have to be overwritten explicitly with `overwrite=True`:"
   ]
  },
  {
   "cell_type": "code",
   "execution_count": 6,
   "id": "aa5fd857-5262-401a-b055-0a8b81b9a775",
   "metadata": {},
   "outputs": [],
   "source": [
    "# check that throws FileExistsError as expected\n",
    "with pytest.raises(FileExistsError):\n",
    "    write_mudata(mdata, mudata_pq)\n",
    "\n",
    "# overwrite explicitly\n",
    "write_mudata(mdata, mudata_pq, overwrite=True)"
   ]
  },
  {
   "cell_type": "markdown",
   "id": "40cd8025-bddf-44b9-98a2-890eec688f83",
   "metadata": {},
   "source": [
    "The structure is something that resembles `.h5mu` files but with directories instead of HDF5 groups and `.parquet` files instead of HDF5 datasets:"
   ]
  },
  {
   "cell_type": "code",
   "execution_count": 7,
   "id": "7d148ad1-2aae-408b-b7b7-4ee3f9352ba6",
   "metadata": {},
   "outputs": [
    {
     "name": "stdout",
     "output_type": "stream",
     "text": [
      "\u001b[1;36mdata/pbmc5k_citeseq/minipbcite.pqdata\u001b[0m\n",
      "├── \u001b[1;36mmod\u001b[0m\n",
      "│   ├── \u001b[1;36mprot\u001b[0m\n",
      "│   │   ├── X.parquet\n",
      "│   │   ├── \u001b[1;36mlayers\u001b[0m\n",
      "│   │   │   └── counts.parquet\n",
      "│   │   ├── obs.parquet\n",
      "│   │   ├── \u001b[1;36mobsm\u001b[0m\n",
      "│   │   │   ├── X_pca.parquet\n",
      "│   │   │   └── X_umap.parquet\n",
      "│   │   ├── \u001b[1;36mobsp\u001b[0m\n",
      "│   │   │   ├── connectivities.parquet\n",
      "│   │   │   └── distances.parquet\n",
      "│   │   ├── \u001b[1;36muns\u001b[0m\n",
      "│   │   │   └── \u001b[1;36mpca\u001b[0m\n",
      "│   │   │       ├── variance.parquet\n",
      "│   │   │       └── variance_ratio.parquet\n",
      "│   │   ├── uns.json\n",
      "│   │   ├── var.parquet\n",
      "│   │   └── \u001b[1;36mvarm\u001b[0m\n",
      "│   │       └── PCs.parquet\n",
      "│   └── \u001b[1;36mrna\u001b[0m\n",
      "│       ├── X.parquet\n",
      "│       ├── obs.parquet\n",
      "│       ├── \u001b[1;36mobsm\u001b[0m\n",
      "│       │   ├── X_pca.parquet\n",
      "│       │   └── X_umap.parquet\n",
      "│       ├── \u001b[1;36mobsp\u001b[0m\n",
      "│       │   ├── connectivities.parquet\n",
      "│       │   └── distances.parquet\n",
      "│       ├── \u001b[1;36muns\u001b[0m\n",
      "│       │   ├── celltype_colors.parquet\n",
      "│       │   ├── leiden_colors.parquet\n",
      "│       │   ├── \u001b[1;36mpca\u001b[0m\n",
      "│       │   │   ├── variance.parquet\n",
      "│       │   │   └── variance_ratio.parquet\n",
      "│       │   └── \u001b[1;36mrank_genes_groups\u001b[0m\n",
      "│       │       ├── logfoldchanges.parquet\n",
      "│       │       ├── names.parquet\n",
      "│       │       ├── pvals.parquet\n",
      "│       │       ├── pvals_adj.parquet\n",
      "│       │       └── scores.parquet\n",
      "│       ├── uns.json\n",
      "│       ├── var.parquet\n",
      "│       └── \u001b[1;36mvarm\u001b[0m\n",
      "│           └── PCs.parquet\n",
      "├── obs.parquet\n",
      "├── \u001b[1;36mobsm\u001b[0m\n",
      "│   ├── X_mofa.parquet\n",
      "│   ├── X_mofa_umap.parquet\n",
      "│   ├── X_umap.parquet\n",
      "│   └── X_wnn_umap.parquet\n",
      "├── \u001b[1;36mobsmap\u001b[0m\n",
      "│   ├── prot.parquet\n",
      "│   └── rna.parquet\n",
      "├── \u001b[1;36mobsp\u001b[0m\n",
      "│   ├── connectivities.parquet\n",
      "│   ├── distances.parquet\n",
      "│   ├── wnn_connectivities.parquet\n",
      "│   └── wnn_distances.parquet\n",
      "├── pqdata.json\n",
      "├── var.parquet\n",
      "├── \u001b[1;36mvarm\u001b[0m\n",
      "│   └── LFs.parquet\n",
      "└── \u001b[1;36mvarmap\u001b[0m\n",
      "    ├── prot.parquet\n",
      "    └── rna.parquet\n",
      "\n",
      "21 directories, 46 files\n"
     ]
    }
   ],
   "source": [
    "!tree data/pbmc5k_citeseq/minipbcite.pqdata"
   ]
  },
  {
   "cell_type": "markdown",
   "id": "832a5e52-89c2-4e5f-a79b-07528db19db5",
   "metadata": {},
   "source": [
    " "
   ]
  },
  {
   "cell_type": "markdown",
   "id": "36f11006-785b-4bc2-ba3e-665223fd82e0",
   "metadata": {},
   "source": [
    "Reading data back is straightforward:"
   ]
  },
  {
   "cell_type": "code",
   "execution_count": 8,
   "id": "228b315c-ffeb-4f86-ac62-7e5bf6d7c445",
   "metadata": {},
   "outputs": [
    {
     "data": {
      "text/html": [
       "<pre>MuData object with n_obs × n_vars = 411 × 56\n",
       "  obs:\t&#x27;louvain&#x27;, &#x27;leiden&#x27;, &#x27;leiden_wnn&#x27;, &#x27;celltype&#x27;\n",
       "  var:\t&#x27;feature_types&#x27;, &#x27;gene_ids&#x27;, &#x27;highly_variable&#x27;\n",
       "  obsm:\t&#x27;X_wnn_umap&#x27;, &#x27;X_umap&#x27;, &#x27;X_mofa_umap&#x27;, &#x27;X_mofa&#x27;\n",
       "  varm:\t&#x27;LFs&#x27;\n",
       "  obsp:\t&#x27;connectivities&#x27;, &#x27;distances&#x27;, &#x27;wnn_connectivities&#x27;, &#x27;wnn_distances&#x27;\n",
       "  2 modalities\n",
       "    prot:\t411 x 29\n",
       "      var:\t&#x27;gene_ids&#x27;, &#x27;feature_types&#x27;, &#x27;highly_variable&#x27;\n",
       "      uns:\t&#x27;neighbors&#x27;, &#x27;pca&#x27;, &#x27;umap&#x27;\n",
       "      obsm:\t&#x27;X_pca&#x27;, &#x27;X_umap&#x27;\n",
       "      varm:\t&#x27;PCs&#x27;\n",
       "      layers:\t&#x27;counts&#x27;\n",
       "      obsp:\t&#x27;connectivities&#x27;, &#x27;distances&#x27;\n",
       "    rna:\t411 x 27\n",
       "      obs:\t&#x27;n_genes_by_counts&#x27;, &#x27;total_counts&#x27;, &#x27;total_counts_mt&#x27;, &#x27;pct_counts_mt&#x27;, &#x27;leiden&#x27;, &#x27;celltype&#x27;\n",
       "      var:\t&#x27;gene_ids&#x27;, &#x27;feature_types&#x27;, &#x27;mt&#x27;, &#x27;n_cells_by_counts&#x27;, &#x27;mean_counts&#x27;, &#x27;pct_dropout_by_counts&#x27;, &#x27;total_counts&#x27;, &#x27;highly_variable&#x27;, &#x27;means&#x27;, &#x27;dispersions&#x27;, &#x27;dispersions_norm&#x27;, &#x27;mean&#x27;, &#x27;std&#x27;\n",
       "      uns:\t&#x27;hvg&#x27;, &#x27;leiden&#x27;, &#x27;neighbors&#x27;, &#x27;pca&#x27;, &#x27;rank_genes_groups&#x27;, &#x27;umap&#x27;, &#x27;celltype_colors&#x27;, &#x27;leiden_colors&#x27;\n",
       "      obsm:\t&#x27;X_pca&#x27;, &#x27;X_umap&#x27;\n",
       "      varm:\t&#x27;PCs&#x27;\n",
       "      obsp:\t&#x27;connectivities&#x27;, &#x27;distances&#x27;</pre>"
      ],
      "text/plain": [
       "MuData object with n_obs × n_vars = 411 × 56\n",
       "  obs:\t'louvain', 'leiden', 'leiden_wnn', 'celltype'\n",
       "  var:\t'feature_types', 'gene_ids', 'highly_variable'\n",
       "  obsm:\t'X_wnn_umap', 'X_umap', 'X_mofa_umap', 'X_mofa'\n",
       "  varm:\t'LFs'\n",
       "  obsp:\t'connectivities', 'distances', 'wnn_connectivities', 'wnn_distances'\n",
       "  2 modalities\n",
       "    prot:\t411 x 29\n",
       "      var:\t'gene_ids', 'feature_types', 'highly_variable'\n",
       "      uns:\t'neighbors', 'pca', 'umap'\n",
       "      obsm:\t'X_pca', 'X_umap'\n",
       "      varm:\t'PCs'\n",
       "      layers:\t'counts'\n",
       "      obsp:\t'connectivities', 'distances'\n",
       "    rna:\t411 x 27\n",
       "      obs:\t'n_genes_by_counts', 'total_counts', 'total_counts_mt', 'pct_counts_mt', 'leiden', 'celltype'\n",
       "      var:\t'gene_ids', 'feature_types', 'mt', 'n_cells_by_counts', 'mean_counts', 'pct_dropout_by_counts', 'total_counts', 'highly_variable', 'means', 'dispersions', 'dispersions_norm', 'mean', 'std'\n",
       "      uns:\t'hvg', 'leiden', 'neighbors', 'pca', 'rank_genes_groups', 'umap', 'celltype_colors', 'leiden_colors'\n",
       "      obsm:\t'X_pca', 'X_umap'\n",
       "      varm:\t'PCs'\n",
       "      obsp:\t'connectivities', 'distances'"
      ]
     },
     "execution_count": 8,
     "metadata": {},
     "output_type": "execute_result"
    }
   ],
   "source": [
    "mdata_from_pqdata = read_mudata(mudata_pq)\n",
    "mdata_from_pqdata"
   ]
  },
  {
   "cell_type": "markdown",
   "id": "ac63a9ab-d963-4920-8f9b-caacf862b867",
   "metadata": {},
   "source": [
    " "
   ]
  },
  {
   "cell_type": "markdown",
   "id": "5e1948ea-c72a-4707-8668-fad3da729a50",
   "metadata": {},
   "source": [
    "## AnnData Parquet-based I/O"
   ]
  },
  {
   "cell_type": "markdown",
   "id": "ec10422f-3a1a-4d81-b1c7-3409200abfca",
   "metadata": {},
   "source": [
    "This also works for individual modalities. Let's try it using the `prot` modality as an example."
   ]
  },
  {
   "cell_type": "code",
   "execution_count": 9,
   "id": "f8a21063-ce68-42dc-8b3d-8b51a6abc62d",
   "metadata": {},
   "outputs": [
    {
     "data": {
      "text/plain": [
       "AnnData object with n_obs × n_vars = 411 × 29\n",
       "    var: 'gene_ids', 'feature_types', 'highly_variable'\n",
       "    uns: 'neighbors', 'pca', 'umap'\n",
       "    obsm: 'X_pca', 'X_umap'\n",
       "    varm: 'PCs'\n",
       "    layers: 'counts'\n",
       "    obsp: 'connectivities', 'distances'"
      ]
     },
     "execution_count": 9,
     "metadata": {},
     "output_type": "execute_result"
    }
   ],
   "source": [
    "adata = mdata[\"prot\"]\n",
    "adata"
   ]
  },
  {
   "cell_type": "markdown",
   "id": "7c3d5b9e-ee13-43f1-9143-148e67785fa7",
   "metadata": {},
   "source": [
    "Saving an `AnnData` object on disk:"
   ]
  },
  {
   "cell_type": "code",
   "execution_count": 10,
   "id": "d2492ef8-26be-428b-9216-7b540052bb05",
   "metadata": {},
   "outputs": [],
   "source": [
    "adata_pq = data / \"minipbcite_prot.pqdata\"\n",
    "write_anndata(adata, adata_pq)"
   ]
  },
  {
   "cell_type": "markdown",
   "id": "63510847-9e74-47c9-a724-4f33cc69c57c",
   "metadata": {},
   "source": [
    "Files have to be overwritten explicitly with `overwrite=True`:"
   ]
  },
  {
   "cell_type": "code",
   "execution_count": 11,
   "id": "36891f6a-45fd-4529-ac44-eb28c69d795c",
   "metadata": {},
   "outputs": [],
   "source": [
    "# check that throws FileExistsError as expected\n",
    "with pytest.raises(FileExistsError):\n",
    "    write_anndata(adata, adata_pq)\n",
    "\n",
    "# overwrite explicitly\n",
    "write_anndata(adata, adata_pq, overwrite=True)"
   ]
  },
  {
   "cell_type": "markdown",
   "id": "35f24940-361a-487e-8fe1-6fb4600270af",
   "metadata": {},
   "source": [
    "The structure is something that resembles `.h5ad` files but with directories instead of HDF5 groups and `.pq` files instead of HDF5 datasets:"
   ]
  },
  {
   "cell_type": "code",
   "execution_count": 12,
   "id": "37df6066-6f99-4421-b8ec-275aeea9a3b2",
   "metadata": {},
   "outputs": [
    {
     "name": "stdout",
     "output_type": "stream",
     "text": [
      "\u001b[1;36mdata/pbmc5k_citeseq/minipbcite_prot.pqdata\u001b[0m\n",
      "├── X.parquet\n",
      "├── \u001b[1;36mlayers\u001b[0m\n",
      "│   └── counts.parquet\n",
      "├── obs.parquet\n",
      "├── \u001b[1;36mobsm\u001b[0m\n",
      "│   ├── X_pca.parquet\n",
      "│   └── X_umap.parquet\n",
      "├── \u001b[1;36mobsp\u001b[0m\n",
      "│   ├── connectivities.parquet\n",
      "│   └── distances.parquet\n",
      "├── \u001b[1;36muns\u001b[0m\n",
      "│   └── \u001b[1;36mpca\u001b[0m\n",
      "│       ├── variance.parquet\n",
      "│       └── variance_ratio.parquet\n",
      "├── uns.json\n",
      "├── var.parquet\n",
      "└── \u001b[1;36mvarm\u001b[0m\n",
      "    └── PCs.parquet\n",
      "\n",
      "7 directories, 12 files\n"
     ]
    }
   ],
   "source": [
    "!tree data/pbmc5k_citeseq/minipbcite_prot.pqdata"
   ]
  },
  {
   "cell_type": "markdown",
   "id": "00a0c846-6a30-4f26-87cb-7672eaaa5777",
   "metadata": {},
   "source": [
    " "
   ]
  },
  {
   "cell_type": "markdown",
   "id": "9ac3d507-4edc-4974-a817-b49d83ac6c68",
   "metadata": {},
   "source": [
    "Reading data back is straightforward:"
   ]
  },
  {
   "cell_type": "code",
   "execution_count": 13,
   "id": "637f5931-4158-4bab-8ad3-90ab2a861574",
   "metadata": {},
   "outputs": [
    {
     "data": {
      "text/plain": [
       "AnnData object with n_obs × n_vars = 411 × 29\n",
       "    var: 'gene_ids', 'feature_types', 'highly_variable'\n",
       "    uns: 'neighbors', 'pca', 'umap'\n",
       "    obsm: 'X_pca', 'X_umap'\n",
       "    varm: 'PCs'\n",
       "    layers: 'counts'\n",
       "    obsp: 'connectivities', 'distances'"
      ]
     },
     "execution_count": 13,
     "metadata": {},
     "output_type": "execute_result"
    }
   ],
   "source": [
    "adata_from_pq = read_anndata(adata_pq)\n",
    "adata_from_pq"
   ]
  },
  {
   "cell_type": "markdown",
   "id": "0b2c2e66-53d7-49b5-be75-a1e4d92e7c32",
   "metadata": {},
   "source": [
    " "
   ]
  }
 ],
 "metadata": {
  "kernelspec": {
   "display_name": "Python 3 (ipykernel)",
   "language": "python",
   "name": "python3"
  },
  "language_info": {
   "codemirror_mode": {
    "name": "ipython",
    "version": 3
   },
   "file_extension": ".py",
   "mimetype": "text/x-python",
   "name": "python",
   "nbconvert_exporter": "python",
   "pygments_lexer": "ipython3",
   "version": "3.12.3"
  }
 },
 "nbformat": 4,
 "nbformat_minor": 5
}
